{
 "cells": [
  {
   "cell_type": "markdown",
   "id": "07c0a753",
   "metadata": {},
   "source": [
    "### Import the required libraries"
   ]
  },
  {
   "cell_type": "code",
   "execution_count": 1,
   "id": "8d79bce7",
   "metadata": {},
   "outputs": [],
   "source": [
    "import os\n",
    "import pandas as pd\n",
    "from os.path import join, isdir, isfile\n",
    "from convert_mimos import convert_mimos\n",
    "import dateutil\n",
    "import warnings\n",
    "import matplotlib.pyplot as plt\n",
    "import numpy as np\n",
    "import pandas as pd\n",
    "from datetime import datetime\n",
    "import nilmtk as ntk"
   ]
  },
  {
   "cell_type": "markdown",
   "id": "019e4bae",
   "metadata": {},
   "source": [
    "## CSV to HDF5 Data Converter"
   ]
  },
  {
   "cell_type": "code",
   "execution_count": 2,
   "id": "bc831708",
   "metadata": {},
   "outputs": [
    {
     "name": "stdout",
     "output_type": "stream",
     "text": [
      "Now Converting 1_sec data to h5 format\n",
      "Loading building 1... 1 2 3 4 5 6 7 8 9 \n",
      "Loading building 2... 1 2 3 4 5 6 7 8 9 \n",
      "Loading building 3... 1 2 3 4 5 6 7 8 9 \n",
      "Loading building 4... 1 2 3 4 5 6 7 8 9 \n",
      "Loading building 5... 1 2 3 4 5 6 7 8 9 \n",
      "Loading building 6... 1 2 3 4 5 6 7 8 9 \n",
      "Loading building 7... 1 2 3 4 5 6 7 8 9 \n",
      "Loaded metadata\n",
      "Done converting YAML metadata to HDF5!\n",
      "Done converting MIMOS to HDF5 - 1_sec!\n",
      "===============================================\n",
      "===============================================\n",
      "Now Converting 3_sec data to h5 format\n",
      "Loading building 1... 1 2 3 4 5 6 7 8 9 \n",
      "Loading building 2... 1 2 3 4 5 6 7 8 9 \n",
      "Loading building 3... 1 2 3 4 5 6 7 8 9 \n",
      "Loading building 4... 1 2 3 4 5 6 7 8 9 \n",
      "Loading building 5... 1 2 3 4 5 6 7 8 9 \n",
      "Loading building 6... 1 2 3 4 5 6 7 8 9 \n",
      "Loading building 7... 1 2 3 4 5 6 7 8 9 \n",
      "Loaded metadata\n",
      "Done converting YAML metadata to HDF5!\n",
      "Done converting MIMOS to HDF5 - 3_sec!\n",
      "===============================================\n",
      "===============================================\n",
      "Now Converting 6_sec data to h5 format\n",
      "Loading building 1... 1 2 3 4 5 6 7 8 9 \n",
      "Loading building 2... 1 2 3 4 5 6 7 8 9 \n",
      "Loading building 3... 1 2 3 4 5 6 7 8 9 \n",
      "Loading building 4... 1 2 3 4 5 6 7 8 9 \n",
      "Loading building 5... 1 2 3 4 5 6 7 8 9 \n",
      "Loading building 6... 1 2 3 4 5 6 7 8 9 \n",
      "Loading building 7... 1 2 3 4 5 6 7 8 9 \n",
      "Loaded metadata\n",
      "Done converting YAML metadata to HDF5!\n",
      "Done converting MIMOS to HDF5 - 6_sec!\n",
      "===============================================\n",
      "===============================================\n",
      "Now Converting 30_sec data to h5 format\n",
      "Loading building 1... 1 2 3 4 5 6 7 8 9 \n",
      "Loading building 2... 1 2 3 4 5 6 7 8 9 \n",
      "Loading building 3... 1 2 3 4 5 6 7 8 9 \n",
      "Loading building 4... 1 2 3 4 5 6 7 8 9 \n",
      "Loading building 5... 1 2 3 4 5 6 7 8 9 \n",
      "Loading building 6... 1 2 3 4 5 6 7 8 9 \n",
      "Loading building 7... 1 2 3 4 5 6 7 8 9 \n",
      "Loaded metadata\n",
      "Done converting YAML metadata to HDF5!\n",
      "Done converting MIMOS to HDF5 - 30_sec!\n",
      "===============================================\n",
      "===============================================\n"
     ]
    }
   ],
   "source": [
    "# Convert all sampling datasets into hdf5 format\n",
    "samplings = ['1_sec', '3_sec', '6_sec', '30_sec']\n",
    "\n",
    "for i in samplings:\n",
    "    print(\"Now Converting {} data to h5 format\".format(i))\n",
    "    input_path = 'data/csv_files/' + i\n",
    "    output_path = 'data/' + 'mimos_' + i + '.h5'\n",
    "    convert_mimos(input_path, output_path, i)\n",
    "    print(\"===============================================\")\n",
    "    print(\"===============================================\")"
   ]
  },
  {
   "cell_type": "code",
   "execution_count": null,
   "id": "a35c71ec",
   "metadata": {},
   "outputs": [],
   "source": []
  }
 ],
 "metadata": {
  "kernelspec": {
   "display_name": "Python 3 (ipykernel)",
   "language": "python",
   "name": "python3"
  },
  "language_info": {
   "codemirror_mode": {
    "name": "ipython",
    "version": 3
   },
   "file_extension": ".py",
   "mimetype": "text/x-python",
   "name": "python",
   "nbconvert_exporter": "python",
   "pygments_lexer": "ipython3",
   "version": "3.7.12"
  }
 },
 "nbformat": 4,
 "nbformat_minor": 5
}
